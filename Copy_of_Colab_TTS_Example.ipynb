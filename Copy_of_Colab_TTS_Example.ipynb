{
  "nbformat": 4,
  "nbformat_minor": 0,
  "metadata": {
    "colab": {
      "name": "Copy of Colab_TTS_Example.ipynb",
      "provenance": [],
      "collapsed_sections": [],
      "toc_visible": true,
      "include_colab_link": true
    },
    "kernelspec": {
      "name": "python3",
      "display_name": "Python 3"
    }
  },
  "cells": [
    {
      "cell_type": "markdown",
      "metadata": {
        "id": "view-in-github",
        "colab_type": "text"
      },
      "source": [
        "<a href=\"https://colab.research.google.com/github/So-AI-love/Online-text-to-speech-PDF-reader/blob/main/Copy_of_Colab_TTS_Example.ipynb\" target=\"_parent\"><img src=\"https://colab.research.google.com/assets/colab-badge.svg\" alt=\"Open In Colab\"/></a>"
      ]
    },
    {
      "cell_type": "markdown",
      "metadata": {
        "id": "GnwZ9-zZTeb8"
      },
      "source": [
        "#This is one try to reach to this site features:\n",
        "https://www.naturalreaders.com/online/\n",
        "\n",
        "---\n",
        "\n",
        "\n",
        "[![enter image description here][1]][1]\n",
        "\n",
        "This Colab Notebook is made, based of this colab page:\n",
        "\n",
        "https://colab.research.google.com/github/tugstugi/pytorch-dc-tts/blob/master/notebooks/MongolianTTS.ipynb\n",
        "\n",
        "**To DO:**\n",
        "\n",
        "\n",
        "1.   Make User friendly IDE for it\n",
        "2.   Add Form to chose other language like Farsi(persian)\n",
        "\n",
        "\n",
        "\n",
        "\n",
        "Thanks form **[tugstugi](www.github/tugstugi)**\n",
        "\n",
        "  [1]: https://i.stack.imgur.com/0uYHM.png\n"
      ]
    },
    {
      "cell_type": "code",
      "metadata": {
        "id": "WymsRTE-7OpX",
        "outputId": "45f4465f-c362-4cc0-ef89-8879f8832faa",
        "colab": {
          "base_uri": "https://localhost:8080/",
          "height": 374
        }
      },
      "source": [
        "!pip install gTTS"
      ],
      "execution_count": null,
      "outputs": [
        {
          "output_type": "stream",
          "text": [
            "Collecting gTTS\n",
            "  Downloading https://files.pythonhosted.org/packages/a1/0c/4ca77eca3b739a4a08360930643f58d714e302fee0d2f8c654e67d9af8e7/gTTS-2.1.1-py3-none-any.whl\n",
            "Requirement already satisfied: click in /usr/local/lib/python3.6/dist-packages (from gTTS) (7.1.2)\n",
            "Requirement already satisfied: beautifulsoup4 in /usr/local/lib/python3.6/dist-packages (from gTTS) (4.6.3)\n",
            "Requirement already satisfied: six in /usr/local/lib/python3.6/dist-packages (from gTTS) (1.15.0)\n",
            "Collecting gtts-token>=1.1.3\n",
            "  Downloading https://files.pythonhosted.org/packages/e7/25/ca6e9cd3275bfc3097fe6b06cc31db6d3dfaf32e032e0f73fead9c9a03ce/gTTS-token-1.1.3.tar.gz\n",
            "Requirement already satisfied: requests in /usr/local/lib/python3.6/dist-packages (from gTTS) (2.23.0)\n",
            "Requirement already satisfied: urllib3!=1.25.0,!=1.25.1,<1.26,>=1.21.1 in /usr/local/lib/python3.6/dist-packages (from requests->gTTS) (1.24.3)\n",
            "Requirement already satisfied: chardet<4,>=3.0.2 in /usr/local/lib/python3.6/dist-packages (from requests->gTTS) (3.0.4)\n",
            "Requirement already satisfied: certifi>=2017.4.17 in /usr/local/lib/python3.6/dist-packages (from requests->gTTS) (2020.6.20)\n",
            "Requirement already satisfied: idna<3,>=2.5 in /usr/local/lib/python3.6/dist-packages (from requests->gTTS) (2.10)\n",
            "Building wheels for collected packages: gtts-token\n",
            "  Building wheel for gtts-token (setup.py) ... \u001b[?25l\u001b[?25hdone\n",
            "  Created wheel for gtts-token: filename=gTTS_token-1.1.3-cp36-none-any.whl size=4096 sha256=f5f54589f107b9b2f20e9f26504d8176f76184bb6ecefcc4403c14755bc93001\n",
            "  Stored in directory: /root/.cache/pip/wheels/dd/11/61/33f7e51bf545e910552b2255eead2a7cd8ef54064b46dceb34\n",
            "Successfully built gtts-token\n",
            "Installing collected packages: gtts-token, gTTS\n",
            "Successfully installed gTTS-2.1.1 gtts-token-1.1.3\n"
          ],
          "name": "stdout"
        }
      ]
    },
    {
      "cell_type": "markdown",
      "metadata": {
        "id": "-4Hs3dhzSJeK"
      },
      "source": [
        "#Upload PDF file or use sample PDF file"
      ]
    },
    {
      "cell_type": "markdown",
      "metadata": {
        "id": "sgQpJRrrSACb"
      },
      "source": [
        "#You can use this pdf file for example:\n",
        "https://transfer.sh/6l9Rf/10.1.1.698.7750.pdf\n"
      ]
    },
    {
      "cell_type": "code",
      "metadata": {
        "id": "euWtweMESXwG"
      },
      "source": [
        "%cd /content\n",
        "!wget 'https://transfer.sh/6l9Rf/10.1.1.698.7750.pdf'\n",
        "PDF_File='10.1.1.698.7750.pdf"
      ],
      "execution_count": null,
      "outputs": []
    },
    {
      "cell_type": "markdown",
      "metadata": {
        "id": "bhEgl0Q5Sqsi"
      },
      "source": [
        "#Or you can uplaod yours pdf file by this running this block:"
      ]
    },
    {
      "cell_type": "code",
      "metadata": {
        "id": "0xd-m9kcFmXT",
        "outputId": "1e72f78b-24f8-4a96-f596-01847ad16ac1",
        "colab": {
          "base_uri": "https://localhost:8080/",
          "height": 34
        }
      },
      "source": [
        "from google.colab import files \n",
        "  \n",
        "  \n",
        "# uploaded = files.upload()\n",
        "for name, data in uploaded.items():\n",
        "  with open(name, 'wb') as f:\n",
        "    f.write(data)\n",
        "    print ('saved file', name)\n",
        " PDF_File=name"
      ],
      "execution_count": null,
      "outputs": [
        {
          "output_type": "stream",
          "text": [
            "saved file exported_config.json\n"
          ],
          "name": "stdout"
        }
      ]
    },
    {
      "cell_type": "code",
      "metadata": {
        "id": "pUqA4yPeR_Yo"
      },
      "source": [
        "#https://pdfminersix.readthedocs.io/en/latest/tutorial/composable.html\n",
        "from io import StringIO\n",
        "\n",
        "from pdfminer.converter import TextConverter\n",
        "from pdfminer.layout import LAParams\n",
        "from pdfminer.pdfdocument import PDFDocument\n",
        "from pdfminer.pdfinterp import PDFResourceManager, PDFPageInterpreter\n",
        "from pdfminer.pdfpage import PDFPage\n",
        "from pdfminer.pdfparser import PDFParser\n",
        "output_string = StringIO()\n",
        "with open('/content/'+PDF_File, 'rb') as in_file:\n",
        "    parser = PDFParser(in_file)\n",
        "    doc = PDFDocument(parser)\n",
        "    rsrcmgr = PDFResourceManager()\n",
        "    device = TextConverter(rsrcmgr, output_string, laparams=LAParams())\n",
        "    interpreter = PDFPageInterpreter(rsrcmgr, device)\n",
        "    for page in PDFPage.create_pages(doc):\n",
        "        interpreter.process_page(page)\n",
        "\n",
        "# print(output_string.getvalue())\n",
        "text=output_string.getvalue()\n",
        "# print (doc)"
      ],
      "execution_count": null,
      "outputs": []
    },
    {
      "cell_type": "code",
      "metadata": {
        "id": "9cXLNvYv7LYz"
      },
      "source": [
        "from gtts import gTTS\n",
        "from IPython.display import Audio\n",
        "# text=\"\"\"\n",
        "# Abstract. Automatic organ segmentation is an important yet challeng-\n",
        "# ing problem for medical image analysis. The pancreas is an abdominal\n",
        "# organ with very high anatomical variability. This inhibits previous seg-\n",
        "# mentation methods from achieving high accuracies, especially compared\n",
        "# to other organs such as the liver, heart or kidneys. In this paper, we\n",
        "# present a probabilistic bottom-up approach for pancreas segmentation\n",
        "# in abdominal computed tomography (CT) scans, using multi-level deep\n",
        "# convolutional networks (ConvNets). We propose and evaluate several\n",
        "# variations of deep ConvNets in the context of hierarchical, coarse-to-\n",
        "# fine classification on image patches and regions, i.e. superpixels. We first\n",
        "# present a dense labeling of local image patches via P-ConvNet and near-\n",
        "# est neighbor fusion. Then we describe a regional ConvNet (R 1 −ConvNet)\n",
        "# that samples a set of bounding boxes around each image superpixel at\n",
        "# different scales of contexts in a “zoom-out” fashion. Our ConvNets learn\n",
        "# to assign class probabilities for each superpixel region of being pancreas.\n",
        "# Last, we study a stacked R 2 −ConvNet leveraging the joint space of CT\n",
        "# intensities and the P −ConvNet dense probability maps. Both 3D Gaus-\n",
        "# sian smoothing and 2D conditional random fields are exploited as struc-\n",
        "# tured predictions for post-processing. We evaluate on CT images of 82\n",
        "# patients in 4-fold cross-validation. We achieve a Dice Similarity Coeffi-\n",
        "# cient of 83.6±6.3% in training and 71.8±10.7% in testing.\n",
        "\n",
        "# \"\"\"\n",
        "\n",
        "# import pdfminer.high_level.extract_text as extract_text\n",
        "# text = extract_text(uploaded)\n",
        "#https://stackoverflow.com/questions/25665/python-module-for-converting-pdf-to-text\n",
        "\n",
        "# import pyPdf\n",
        "# pdf = pyPdf.PdfFileReader(open(filename, \"rb\"))\n",
        "# for page in pdf.pages:\n",
        "#     text= page.extractText()\n",
        "\n",
        "#end of https://stackoverflow.com/questions/25665/python-module-for-converting-pdf-to-text\n",
        "tts = gTTS(text)\n",
        "tts.save('1.wav')\n",
        "sound_file = '1.wav'\n",
        "Audio(sound_file, autoplay=True)\n",
        "\n",
        "\n"
      ],
      "execution_count": null,
      "outputs": []
    },
    {
      "cell_type": "code",
      "metadata": {
        "id": "-UHLDER3ClWV"
      },
      "source": [
        "# !pip install pyPdf pdf pdfminer"
      ],
      "execution_count": null,
      "outputs": []
    },
    {
      "cell_type": "code",
      "metadata": {
        "id": "WlB3aIdFQqiM"
      },
      "source": [
        "# !wget --method PUT --body-file= '/content/10.1.1.698.7750.pdf' 'https://transfer.sh/10.1.1.698.7750.pdf' -O - -nv\n",
        "#  curl --upload-file '/content/10.1.1.698.7750.pdf'"
      ],
      "execution_count": null,
      "outputs": []
    },
    {
      "cell_type": "code",
      "metadata": {
        "id": "fFu4LeA9RT53"
      },
      "source": [
        "# !curl -i -F  filedata=@'/content/10.1.1.698.7750.pdf'  https://transfer.sh/"
      ],
      "execution_count": null,
      "outputs": []
    },
    {
      "cell_type": "code",
      "metadata": {
        "id": "VfA3WEt1RhAY"
      },
      "source": [
        "# !wget https://transfer.sh/6l9Rf/10.1.1.698.7750.pdf"
      ],
      "execution_count": null,
      "outputs": []
    }
  ]
}